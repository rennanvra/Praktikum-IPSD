{
 "cells": [
  {
   "cell_type": "markdown",
   "metadata": {},
   "source": [
    "### Soal 1: Memecahkan Masalah Unik dengan Loop dan If-Else\n",
    "**Soal**: Buatlah program yang dapat menghasilkan pola berbentuk angka seperti di bawah ini, dengan syarat angka yang ditampilkan adalah hasil dari penjumlahan bilangan prima sebelumnya:\n",
    "```\n",
    "1\n",
    "2 3\n",
    "5 7 11\n",
    "13 17 19 23\n",
    "...\n",
    "```\n",
    "Jumlah angka pada setiap baris bertambah 1, dan bilangan yang ditampilkan adalah bilangan prima.\n",
    "\n",
    "**Tujuan**: Menguji pemahaman tentang loop, bilangan prima, dan bagaimana pola dihasilkan.\n"
   ]
  },
  {
   "cell_type": "code",
   "execution_count": 49,
   "metadata": {},
   "outputs": [
    {
     "name": "stdout",
     "output_type": "stream",
     "text": [
      "2\n",
      "3 5\n",
      "7 11 13\n",
      "17 19 23 29\n"
     ]
    }
   ],
   "source": [
    "# Fungsi untuk mengecek apakah suatu bilangan adalah bilangan prima\n",
    "def cek_prima(n):\n",
    "    \"\"\"Cek apakah sebuah angka adalah bilangan prima\"\"\"\n",
    "    if n <= 1:\n",
    "        return False\n",
    "    for i in range(2, int(n ** 0.5) + 1):\n",
    "        if n % i == 0:\n",
    "            return False\n",
    "    return True\n",
    "\n",
    "# Fungsi untuk menghasilkan daftar bilangan prima sebanyak n bilangan\n",
    "def buat_bilangan_prima(n):\n",
    "    bilangan_prima = []\n",
    "    angka = 2\n",
    "    while len(bilangan_prima) < n:\n",
    "        if cek_prima(angka):\n",
    "            bilangan_prima.append(angka)\n",
    "        angka += 1\n",
    "    return bilangan_prima\n",
    "\n",
    "# Fungsi untuk mencetak pola bilangan prima secara bertahap, dimulai dengan angka 1\n",
    "def cetak_pola(n):\n",
    "    \"\"\"Mencetak pola bilangan prima, dimulai dengan angka 1\"\"\"\n",
    "    total_bilangan_prima = sum(range(1, n))  # Menghitung bilangan prima yang diperlukan, kurang 1\n",
    "    bilangan_prima = buat_bilangan_prima(total_bilangan_prima)  # Ambil bilangan prima yang diperlukan\n",
    "    indeks_prima = 0  # Inisialisasi indeks untuk melacak bilangan prima\n",
    "\n",
    "    # Loop untuk mencetak baris berikutnya\n",
    "    for i in range(1, n):\n",
    "        baris = []\n",
    "        for j in range(i):\n",
    "            baris.append(str(bilangan_prima[indeks_prima]))  # Ambil bilangan prima satu per satu\n",
    "            indeks_prima += 1  # Pindah ke bilangan prima berikutnya\n",
    "        print(\" \".join(baris))  # Cetak bilangan prima di baris tersebut\n",
    "\n",
    "# Contoh penggunaan: mencetak pola dengan 4 baris dimulai dengan angka 1\n",
    "cetak_pola(5)\n"
   ]
  },
  {
   "cell_type": "markdown",
   "metadata": {},
   "source": [
    "### Soal 2: Membuat Fungsi dengan Syarat Spesifik\n",
    "**Soal**: Buatlah sebuah fungsi yang menerima dua input berupa list angka. Fungsi ini harus mengembalikan sebuah list baru yang berisi elemen dari dua list input yang memiliki indeks ganjil. List baru tersebut juga harus diurutkan secara menurun berdasarkan nilai elemen.\n",
    "\n",
    "**Tujuan**: Menguji mahasiswa dalam manipulasi list, penggunaan indeks, serta pemahaman tentang fungsi dan pengurutan.\n"
   ]
  },
  {
   "cell_type": "code",
   "execution_count": 59,
   "metadata": {},
   "outputs": [
    {
     "name": "stdout",
     "output_type": "stream",
     "text": [
      "\n",
      "List Inputan:\n",
      "List A: [1, 2, 3, 4, 5]\n",
      "List B: [6, 7, 8, 9, 10]\n",
      "\n",
      "Angka Genap dari List A: [2, 4]\n",
      "Angka Ganjil dari List A: [1, 3, 5]\n",
      "Angka Genap dari List B: [6, 8, 10]\n",
      "Angka Ganjil dari List B: [7, 9]\n",
      "\n",
      "Elemen dengan Indeks Ganjil dari Kedua List (diurutkan menurun): [9, 7, 5, 3, 1]\n"
     ]
    }
   ],
   "source": [
    "def bilangan_ganjil(list1, list2):\n",
    "    # Mengambil elemen dengan indeks ganjil dari kedua list\n",
    "    elemen_ganjil = []\n",
    "    \n",
    "    # Mengambil elemen dari list pertama\n",
    "    for i in range(len(list1)):\n",
    "        if i % 2 != 1:  # Cek apakah indeks ganjil\n",
    "            elemen_ganjil.append(list1[i])\n",
    "    \n",
    "    # Mengambil elemen dari list kedua\n",
    "    for i in range(len(list2)):\n",
    "        if i % 2 != 0:  # Cek apakah indeks ganjil\n",
    "            elemen_ganjil.append(list2[i])\n",
    "    \n",
    "    # Mengurutkan list baru secara menurun\n",
    "    elemen_ganjil.sort(reverse=True)\n",
    "    \n",
    "    return elemen_ganjil\n",
    "\n",
    "# Meminta input dari pengguna untuk kedua list\n",
    "input_list_a = input(\"Masukkan list pertama (pisahkan dengan koma): \")\n",
    "input_list_b = input(\"Masukkan list kedua (pisahkan dengan koma): \")\n",
    "\n",
    "# Mengonversi input string menjadi list angka\n",
    "list_a = list(map(int, input_list_a.split(\",\")))\n",
    "list_b = list(map(int, input_list_b.split(\",\")))\n",
    "\n",
    "# Menghitung angka genap dan ganjil dari kedua list\n",
    "genap_a = [x for x in list_a if x % 2 == 0]\n",
    "ganjil_a = [x for x in list_a if x % 2 != 0]\n",
    "genap_b = [x for x in list_b if x % 2 == 0]\n",
    "ganjil_b = [x for x in list_b if x % 2 != 0]\n",
    "\n",
    "# Memanggil fungsi untuk mendapatkan elemen dengan indeks ganjil\n",
    "hasil = bilangan_ganjil(list_a, list_b)\n",
    "\n",
    "# Menampilkan hasil\n",
    "print(\"\\nList Inputan:\")\n",
    "print(\"List A:\", list_a)\n",
    "print(\"List B:\", list_b)\n",
    "print(\"\\nAngka Genap dari List A:\", genap_a)\n",
    "print(\"Angka Ganjil dari List A:\", ganjil_a)\n",
    "print(\"Angka Genap dari List B:\", genap_b)\n",
    "print(\"Angka Ganjil dari List B:\", ganjil_b)\n",
    "print(\"\\nElemen dengan Indeks Ganjil dari Kedua List (diurutkan menurun):\", hasil)\n"
   ]
  },
  {
   "cell_type": "markdown",
   "metadata": {},
   "source": [
    "### Soal 3: Exception Handling dalam Konteks Nyata\n",
    "**Soal**: Buat sebuah program untuk mensimulasikan transaksi ATM. Program harus:\n",
    "1. Meminta pengguna memasukkan PIN (dibatasi 3 kali percobaan).\n",
    "2. Setelah PIN benar, meminta jumlah penarikan.\n",
    "3. Jika saldo kurang dari jumlah yang ditarik, munculkan pesan kesalahan.\n",
    "4. Jika penarikan berhasil, tampilkan saldo akhir.\n",
    "\n",
    "**Tujuan**: Menguji penggunaan input, while loop, exception handling, dan logika untuk memproses skenario kehidupan nyata.\n"
   ]
  },
  {
   "cell_type": "code",
   "execution_count": 52,
   "metadata": {},
   "outputs": [
    {
     "name": "stdout",
     "output_type": "stream",
     "text": [
      "PIN benar. Selamat datang!\n",
      "\n",
      "===== Menu ATM =====\n",
      "1. Cek Saldo\n",
      "2. Tarik Tunai\n",
      "3. Keluar\n",
      "Penarikan berhasil. Saldo akhir Anda: Rp 90000.00\n",
      "\n",
      "===== Menu ATM =====\n",
      "1. Cek Saldo\n",
      "2. Tarik Tunai\n",
      "3. Keluar\n",
      "Terima kasih telah menggunakan ATM kami. Sampai jumpa!\n"
     ]
    }
   ],
   "source": [
    "def atm_simulator():\n",
    "    # Inisialisasi PIN dan saldo\n",
    "    correct_pin = \"1234\"\n",
    "    balance = 100000  # Saldo awal\n",
    "    attempts = 3  # Maksimal percobaan PIN\n",
    "\n",
    "    # Proses verifikasi PIN\n",
    "    while attempts > 0:\n",
    "        # Meminta pengguna memasukkan PIN\n",
    "        pin = input(\"Masukkan PIN Anda: \")\n",
    "        \n",
    "        # Cek apakah PIN benar\n",
    "        if pin == correct_pin:\n",
    "            print(\"PIN benar. Selamat datang!\")\n",
    "            break\n",
    "        else:\n",
    "            attempts -= 1\n",
    "            print(f\"PIN salah. Sisa percobaan: {attempts}\")\n",
    "            if attempts == 0:\n",
    "                print(\"Akses ditolak. Terlalu banyak percobaan.\")\n",
    "                return  # Keluar dari fungsi jika percobaan habis\n",
    "\n",
    "    # Menu utama setelah verifikasi PIN berhasil\n",
    "    while True:\n",
    "        print(\"\\n===== Menu ATM =====\")\n",
    "        print(\"1. Cek Saldo\")\n",
    "        print(\"2. Tarik Tunai\")\n",
    "        print(\"3. Keluar\")\n",
    "        choice = input(\"Pilih menu (1/2/3): \")\n",
    "\n",
    "        # Pilihan menu\n",
    "        if choice == \"1\":\n",
    "            print(f\"Saldo Anda: Rp {balance:.2f}\")\n",
    "        elif choice == \"2\":\n",
    "            try:\n",
    "                # Meminta jumlah penarikan\n",
    "                withdrawal_amount = float(input(\"Masukkan jumlah penarikan: \"))\n",
    "\n",
    "                # Cek apakah saldo mencukupi\n",
    "                if withdrawal_amount > balance:\n",
    "                    raise ValueError(\"Saldo tidak cukup untuk melakukan penarikan.\")\n",
    "                \n",
    "                # Proses penarikan\n",
    "                balance -= withdrawal_amount\n",
    "                print(f\"Penarikan berhasil. Saldo akhir Anda: Rp {balance:.2f}\")\n",
    "\n",
    "            except ValueError as e:\n",
    "                print(e)  # Tampilkan pesan kesalahan\n",
    "            except Exception as e:\n",
    "                print(\"Terjadi kesalahan: \", e)  # Tangani kesalahan lainnya\n",
    "        elif choice == \"3\":\n",
    "            print(\"Terima kasih telah menggunakan ATM kami. Sampai jumpa!\")\n",
    "            break  # Keluar dari loop, program selesai\n",
    "        else:\n",
    "            print(\"Pilihan tidak valid. Silakan coba lagi.\")\n",
    "\n",
    "# Jalankan simulasi ATM\n",
    "atm_simulator()\n"
   ]
  },
  {
   "cell_type": "markdown",
   "metadata": {},
   "source": [
    "### Soal 4: Studi Kasus Pengelolaan Data\n",
    "**Soal**: Anda diberikan file CSV berisi data nilai ujian mahasiswa. Tugas Anda adalah menulis sebuah program yang:\n",
    "1. Membaca file CSV dan menyimpan datanya ke dalam dictionary.\n",
    "2. Menghitung rata-rata nilai tiap mahasiswa.\n",
    "3. Menampilkan mahasiswa dengan nilai tertinggi dan terendah.\n",
    "\n",
    "**Tujuan**: Menguji kemampuan mahasiswa dalam membaca file, mengelola data dengan dictionary, serta menerapkan logika perhitungan.\n"
   ]
  },
  {
   "cell_type": "code",
   "execution_count": 83,
   "metadata": {},
   "outputs": [
    {
     "name": "stdout",
     "output_type": "stream",
     "text": [
      "Collecting pandas\n",
      "  Obtaining dependency information for pandas from https://files.pythonhosted.org/packages/29/d4/1244ab8edf173a10fd601f7e13b9566c1b525c4f365d6bee918e68381889/pandas-2.2.3-cp312-cp312-win_amd64.whl.metadata\n",
      "  Using cached pandas-2.2.3-cp312-cp312-win_amd64.whl.metadata (19 kB)\n",
      "Requirement already satisfied: numpy>=1.26.0 in c:\\users\\user\\appdata\\local\\programs\\python\\python312\\lib\\site-packages (from pandas) (2.1.1)\n",
      "Requirement already satisfied: python-dateutil>=2.8.2 in c:\\users\\user\\appdata\\roaming\\python\\python312\\site-packages (from pandas) (2.9.0.post0)\n",
      "Requirement already satisfied: pytz>=2020.1 in c:\\users\\user\\appdata\\local\\programs\\python\\python312\\lib\\site-packages (from pandas) (2024.2)\n",
      "Requirement already satisfied: tzdata>=2022.7 in c:\\users\\user\\appdata\\local\\programs\\python\\python312\\lib\\site-packages (from pandas) (2024.2)\n",
      "Requirement already satisfied: six>=1.5 in c:\\users\\user\\appdata\\roaming\\python\\python312\\site-packages (from python-dateutil>=2.8.2->pandas) (1.16.0)\n",
      "Using cached pandas-2.2.3-cp312-cp312-win_amd64.whl (11.5 MB)\n",
      "Installing collected packages: pandas\n",
      "Note: you may need to restart the kernel to use updated packages.\n"
     ]
    },
    {
     "name": "stderr",
     "output_type": "stream",
     "text": [
      "ERROR: Could not install packages due to an OSError: [WinError 32] The process cannot access the file because it is being used by another process: 'c:\\\\Users\\\\User\\\\AppData\\\\Local\\\\Programs\\\\Python\\\\Python312\\\\Lib\\\\site-packages\\\\pandas\\\\core\\\\arrays\\\\integer.py'\n",
      "Consider using the `--user` option or check the permissions.\n",
      "\n",
      "\n",
      "[notice] A new release of pip is available: 23.2.1 -> 24.2\n",
      "[notice] To update, run: python.exe -m pip install --upgrade pip\n"
     ]
    }
   ],
   "source": [
    "pip install pandas"
   ]
  },
  {
   "cell_type": "code",
   "execution_count": 84,
   "metadata": {},
   "outputs": [
    {
     "name": "stdout",
     "output_type": "stream",
     "text": [
      "   Nama Siswa  Nilai\n",
      "0     Siswa_1     59\n",
      "1     Siswa_2     79\n",
      "2     Siswa_3     61\n",
      "3     Siswa_4     74\n",
      "4     Siswa_5     50\n",
      "..        ...    ...\n",
      "95   Siswa_96     59\n",
      "96   Siswa_97     57\n",
      "97   Siswa_98     70\n",
      "98   Siswa_99     66\n",
      "99  Siswa_100     78\n",
      "\n",
      "[100 rows x 2 columns]\n"
     ]
    }
   ],
   "source": [
    "import pandas as pd\n",
    "\n",
    "df=pd.read_csv(r\"D:/KULIAH/SEM 3/siswa_nilai.csv\")\n",
    "\n",
    "print(df)\n"
   ]
  },
  {
   "cell_type": "code",
   "execution_count": 88,
   "metadata": {},
   "outputs": [
    {
     "ename": "KeyError",
     "evalue": "\"None of ['Nama'] are in the columns\"",
     "output_type": "error",
     "traceback": [
      "\u001b[1;31m---------------------------------------------------------------------------\u001b[0m",
      "\u001b[1;31mKeyError\u001b[0m                                  Traceback (most recent call last)",
      "\u001b[1;32m~\\AppData\\Local\\Temp\\ipykernel_256\\3415446585.py\u001b[0m in \u001b[0;36m?\u001b[1;34m()\u001b[0m\n\u001b[0;32m      3\u001b[0m \u001b[1;31m# 1. Membaca file CSV dan menyimpan datanya ke dalam dictionary\u001b[0m\u001b[1;33m\u001b[0m\u001b[1;33m\u001b[0m\u001b[0m\n\u001b[0;32m      4\u001b[0m \u001b[0mdf\u001b[0m\u001b[1;33m=\u001b[0m\u001b[0mpd\u001b[0m\u001b[1;33m.\u001b[0m\u001b[0mread_csv\u001b[0m\u001b[1;33m(\u001b[0m\u001b[1;34mr\"D:/KULIAH/SEM 3/siswa_nilai.csv\"\u001b[0m\u001b[1;33m)\u001b[0m\u001b[1;33m\u001b[0m\u001b[1;33m\u001b[0m\u001b[0m\n\u001b[0;32m      5\u001b[0m \u001b[1;33m\u001b[0m\u001b[0m\n\u001b[0;32m      6\u001b[0m \u001b[1;31m# Mengonversi DataFrame ke dalam dictionary\u001b[0m\u001b[1;33m\u001b[0m\u001b[1;33m\u001b[0m\u001b[0m\n\u001b[1;32m----> 7\u001b[1;33m \u001b[0mdata_mahasiswa\u001b[0m \u001b[1;33m=\u001b[0m \u001b[0mdf\u001b[0m\u001b[1;33m.\u001b[0m\u001b[0mset_index\u001b[0m\u001b[1;33m(\u001b[0m\u001b[1;34m'Nama'\u001b[0m\u001b[1;33m)\u001b[0m\u001b[1;33m.\u001b[0m\u001b[0mT\u001b[0m\u001b[1;33m.\u001b[0m\u001b[0mto_dict\u001b[0m\u001b[1;33m(\u001b[0m\u001b[1;33m)\u001b[0m\u001b[1;33m\u001b[0m\u001b[1;33m\u001b[0m\u001b[0m\n\u001b[0m\u001b[0;32m      8\u001b[0m \u001b[1;33m\u001b[0m\u001b[0m\n\u001b[0;32m      9\u001b[0m \u001b[1;31m# 2. Menghitung rata-rata nilai tiap mahasiswa\u001b[0m\u001b[1;33m\u001b[0m\u001b[1;33m\u001b[0m\u001b[0m\n\u001b[0;32m     10\u001b[0m \u001b[0mrata_rata\u001b[0m \u001b[1;33m=\u001b[0m \u001b[1;33m{\u001b[0m\u001b[1;33m}\u001b[0m\u001b[1;33m\u001b[0m\u001b[1;33m\u001b[0m\u001b[0m\n",
      "\u001b[1;32mc:\\Users\\User\\AppData\\Local\\Programs\\Python\\Python312\\Lib\\site-packages\\pandas\\core\\frame.py\u001b[0m in \u001b[0;36m?\u001b[1;34m(self, keys, drop, append, inplace, verify_integrity)\u001b[0m\n\u001b[0;32m   6118\u001b[0m                     \u001b[1;32mif\u001b[0m \u001b[1;32mnot\u001b[0m \u001b[0mfound\u001b[0m\u001b[1;33m:\u001b[0m\u001b[1;33m\u001b[0m\u001b[1;33m\u001b[0m\u001b[0m\n\u001b[0;32m   6119\u001b[0m                         \u001b[0mmissing\u001b[0m\u001b[1;33m.\u001b[0m\u001b[0mappend\u001b[0m\u001b[1;33m(\u001b[0m\u001b[0mcol\u001b[0m\u001b[1;33m)\u001b[0m\u001b[1;33m\u001b[0m\u001b[1;33m\u001b[0m\u001b[0m\n\u001b[0;32m   6120\u001b[0m \u001b[1;33m\u001b[0m\u001b[0m\n\u001b[0;32m   6121\u001b[0m         \u001b[1;32mif\u001b[0m \u001b[0mmissing\u001b[0m\u001b[1;33m:\u001b[0m\u001b[1;33m\u001b[0m\u001b[1;33m\u001b[0m\u001b[0m\n\u001b[1;32m-> 6122\u001b[1;33m             \u001b[1;32mraise\u001b[0m \u001b[0mKeyError\u001b[0m\u001b[1;33m(\u001b[0m\u001b[1;33mf\"\u001b[0m\u001b[1;33mNone of \u001b[0m\u001b[1;33m{\u001b[0m\u001b[0mmissing\u001b[0m\u001b[1;33m}\u001b[0m\u001b[1;33m are in the columns\u001b[0m\u001b[1;33m\"\u001b[0m\u001b[1;33m)\u001b[0m\u001b[1;33m\u001b[0m\u001b[1;33m\u001b[0m\u001b[0m\n\u001b[0m\u001b[0;32m   6123\u001b[0m \u001b[1;33m\u001b[0m\u001b[0m\n\u001b[0;32m   6124\u001b[0m         \u001b[1;32mif\u001b[0m \u001b[0minplace\u001b[0m\u001b[1;33m:\u001b[0m\u001b[1;33m\u001b[0m\u001b[1;33m\u001b[0m\u001b[0m\n\u001b[0;32m   6125\u001b[0m             \u001b[0mframe\u001b[0m \u001b[1;33m=\u001b[0m \u001b[0mself\u001b[0m\u001b[1;33m\u001b[0m\u001b[1;33m\u001b[0m\u001b[0m\n",
      "\u001b[1;31mKeyError\u001b[0m: \"None of ['Nama'] are in the columns\""
     ]
    }
   ],
   "source": [
    "import pandas as pd\n",
    "\n",
    "# 1. Membaca file CSV dan menyimpan datanya ke dalam dictionary\n",
    "df=pd.read_csv(r\"D:/KULIAH/SEM 3/siswa_nilai.csv\")\n",
    "\n",
    "# Mengonversi DataFrame ke dalam dictionary\n",
    "data_mahasiswa = df.set_index('Nama').T.to_dict()\n",
    "\n",
    "# 2. Menghitung rata-rata nilai tiap mahasiswa\n",
    "rata_rata = {}\n",
    "for nama, nilai in data_mahasiswa.items():\n",
    "    rata_rata[nama] = sum(nilai.values()) / len(nilai)\n",
    "\n",
    "# 3. Menampilkan mahasiswa dengan nilai tertinggi dan terendah\n",
    "mahasiswa_tertinggi = max(rata_rata, key=rata_rata.get)\n",
    "mahasiswa_terendah = min(rata_rata, key=rata_rata.get)\n",
    "\n",
    "print(\"Rata-rata nilai tiap mahasiswa:\")\n",
    "for nama, rata in rata_rata.items():\n",
    "    print(f\"{nama}: {rata:.2f}\")\n",
    "\n",
    "print(f\"\\nMahasiswa dengan nilai tertinggi: {mahasiswa_tertinggi} dengan rata-rata {rata_rata[mahasiswa_tertinggi]:.2f}\")\n",
    "print(f\"Mahasiswa dengan nilai terendah: {mahasiswa_terendah} dengan rata-rata {rata_rata[mahasiswa_terendah]:.2f}\")\n"
   ]
  },
  {
   "cell_type": "markdown",
   "metadata": {},
   "source": [
    "### Soal 5: Kombinasi Logika dan Kreativitas\n",
    "**Soal**: Buatlah permainan sederhana menggunakan Python, di mana komputer akan memilih sebuah angka secara acak antara 1 hingga 100, dan pengguna harus menebak angka tersebut. Setiap tebakan yang salah akan memberikan petunjuk apakah angka yang ditebak lebih besar atau lebih kecil dari angka sebenarnya. Batasi jumlah percobaan menjadi 5 kali. Setelah permainan selesai, tampilkan apakah pemain menang atau kalah.\n",
    "\n",
    "**Tujuan**: Menguji logika, kontrol alur program, penggunaan modul `random`, serta kreativitas dalam membangun program interaktif.\n"
   ]
  },
  {
   "cell_type": "code",
   "execution_count": 48,
   "metadata": {},
   "outputs": [
    {
     "name": "stdout",
     "output_type": "stream",
     "text": [
      "Selamat datang di permainan Tebak Angka!\n",
      "Saya telah memilih angka antara 1 dan 100. Anda memiliki 5 percobaan untuk menebak.\n",
      "Tebakan Anda terlalu besar.\n",
      "Tebakan Anda terlalu kecil.\n",
      "Tebakan Anda terlalu kecil.\n",
      "Selamat! Anda menebak angka 27 dengan benar!\n"
     ]
    }
   ],
   "source": [
    "import random\n",
    "\n",
    "def tebak_angka():\n",
    "    # Komputer memilih angka secara acak antara 1 hingga 100\n",
    "    angka_rahasia = random.randint(1, 100)\n",
    "    percobaan_maksimal = 5\n",
    "    \n",
    "    print(\"Selamat datang di permainan Tebak Angka!\")\n",
    "    print(f\"Saya telah memilih angka antara 1 dan 100. Anda memiliki {percobaan_maksimal} percobaan untuk menebak.\")\n",
    "\n",
    "    for percobaan in range(1, percobaan_maksimal + 1):\n",
    "        try:\n",
    "            # Meminta pengguna untuk memasukkan tebakan\n",
    "            tebakan = int(input(f\"Tebakan ke-{percobaan}: \"))\n",
    "\n",
    "            if tebakan < 1 or tebakan > 100:\n",
    "                print(\"Tebakan harus antara 1 dan 100. Silakan coba lagi.\")\n",
    "                continue\n",
    "            \n",
    "            # Cek apakah tebakan benar\n",
    "            if tebakan == angka_rahasia:\n",
    "                print(f\"Selamat! Anda menebak angka {angka_rahasia} dengan benar!\")\n",
    "                break\n",
    "            elif tebakan < angka_rahasia:\n",
    "                print(\"Tebakan Anda terlalu kecil.\")\n",
    "            else:\n",
    "                print(\"Tebakan Anda terlalu besar.\")\n",
    "        \n",
    "        except ValueError:\n",
    "            print(\"Input tidak valid. Harap masukkan angka bulat antara 1 dan 100.\")\n",
    "    \n",
    "    else:\n",
    "        print(f\"Sayang sekali! Anda telah kehabisan percobaan. Angka yang benar adalah {angka_rahasia}.\")\n",
    "\n",
    "# Jalankan permainan\n",
    "if __name__ == \"__main__\":\n",
    "    tebak_angka()\n"
   ]
  },
  {
   "cell_type": "markdown",
   "metadata": {},
   "source": [
    "### Soal 6: Rekursi yang Tidak Biasa\n",
    "**Soal**: Buat fungsi rekursif yang menerima input bilangan bulat `n` dan menghasilkan urutan bilangan seperti berikut ini:\n",
    "```\n",
    "Input: n = 4\n",
    "Output: 1, 1, 2, 6, 24\n",
    "```\n",
    "Fungsi ini harus menggunakan konsep rekursi untuk menghitung faktorial setiap angka hingga `n`.\n",
    "\n",
    "**Tujuan**: Menguji pemahaman rekursi dengan penerapan unik dan sulit dipahami secara instan oleh AI.\n"
   ]
  },
  {
   "cell_type": "code",
   "execution_count": 41,
   "metadata": {},
   "outputs": [
    {
     "name": "stdout",
     "output_type": "stream",
     "text": [
      "Output: 1, 2, 6, 24\n"
     ]
    }
   ],
   "source": [
    "def faktorial_rekursif(n):\n",
    "    # Basis rekursi\n",
    "    if n == 0 or n == 1:\n",
    "        return [1]\n",
    "    else:\n",
    "        # Rekursi untuk menghitung faktorial\n",
    "        hasil_sebelumnya = faktorial_rekursif(n - 1)\n",
    "        hasil_sekarang = hasil_sebelumnya[-1] * n\n",
    "        hasil_sebelumnya.append(hasil_sekarang)\n",
    "        return hasil_sebelumnya\n",
    "\n",
    "# Contoh penggunaan\n",
    "n = 4\n",
    "hasil = faktorial_rekursif(n)\n",
    "print(\"Output:\", \", \".join(map(str, hasil)))"
   ]
  },
  {
   "cell_type": "markdown",
   "metadata": {},
   "source": [
    "### Soal 7: Pemrograman dengan Algoritma Greedy\n",
    "**Soal**: Buatlah program untuk memecahkan masalah \"minimum coin change\". Diberikan jumlah uang dan daftar nilai koin yang tersedia (misalnya, 1, 5, 10, 25), tentukan kombinasi minimum koin yang diperlukan untuk mencapai jumlah uang tersebut. Namun, program Anda harus bisa menangani koin-koin yang nilai dan jumlahnya ditentukan pengguna.\n",
    "\n",
    "**Tujuan**: Menguji kemampuan mahasiswa dalam memahami dan mengimplementasikan algoritma greedy, serta pemrograman modular.\n"
   ]
  },
  {
   "cell_type": "code",
   "execution_count": 79,
   "metadata": {},
   "outputs": [
    {
     "name": "stdout",
     "output_type": "stream",
     "text": [
      "Jumlah uang yang ingin dicapai: 29\n",
      "\n",
      "Koin yang diinputkan: [25, 10, 5, 1]\n",
      "Kombinasi minimum koin: [25, 1, 1, 1, 1]\n"
     ]
    }
   ],
   "source": [
    "def min_coin_change():\n",
    "    # Input coins and their values\n",
    "    num_coins = int(input(\"Masukkan jumlah koin yang tersedia: \"))\n",
    "    coins = []\n",
    "    for i in range(num_coins):\n",
    "        coin_value = int(input(f\"Masukkan nilai koin ke-{i + 1}: \"))\n",
    "        coins.append(coin_value)\n",
    "\n",
    "    # Input target amount\n",
    "    target_amount = int(input(\"Masukkan jumlah uang yang ingin dicapai: \"))\n",
    "\n",
    "    # Inisialisasi list untuk menyimpan kombinasi koin\n",
    "    coin_combination = []\n",
    "\n",
    "    # Urutkan koin dari nilai terbesar ke terkecil\n",
    "    coins.sort(reverse=True)\n",
    "\n",
    "    # Looping untuk mencari kombinasi koin\n",
    "    remaining_amount = target_amount  # Simpan jumlah uang asli\n",
    "    for coin in coins:\n",
    "        while remaining_amount >= coin:\n",
    "            remaining_amount -= coin\n",
    "            coin_combination.append(coin)\n",
    "\n",
    "    return coins, coin_combination, target_amount\n",
    "\n",
    "# Contoh penggunaan\n",
    "koin_input, hasil, amount = min_coin_change()\n",
    "\n",
    "# Output hasil\n",
    "print(\"Jumlah uang yang ingin dicapai:\", amount)\n",
    "print(\"\\nKoin yang diinputkan:\", koin_input)\n",
    "print(\"Kombinasi minimum koin:\", hasil)\n"
   ]
  },
  {
   "cell_type": "markdown",
   "metadata": {},
   "source": [
    "### Soal 8: Kombinasi String dan Manipulasi List\n",
    "**Soal**: Buat sebuah program yang menerima string dari pengguna dan mengonversi string tersebut menjadi sebuah list berisi kata-kata terbalik. Misalnya:\n",
    "```\n",
    "Input: \"Saya suka Python\"\n",
    "Output: [\"ayaS\", \"akus\", \"nohtyP\"]\n",
    "```\n",
    "\n",
    "**Tujuan**: Menguji mahasiswa dalam manipulasi string dan list, serta penerapan logika kreatif.\n"
   ]
  },
  {
   "cell_type": "code",
   "execution_count": 46,
   "metadata": {},
   "outputs": [
    {
     "name": "stdout",
     "output_type": "stream",
     "text": [
      "Input:  Saya Suka Python\n",
      "Output: ['ayaS', 'akuS', 'nohtyP']\n"
     ]
    }
   ],
   "source": [
    "def balik_kata(string):\n",
    "    # Memisahkan string menjadi list kata-kata\n",
    "    kata_list = string.split()\n",
    "    \n",
    "    # Membalik setiap kata dalam list\n",
    "    kata_terbalik = [kata[::-1] for kata in kata_list]\n",
    "    \n",
    "    return kata_terbalik\n",
    "\n",
    "def main():\n",
    "    # Meminta input string dari pengguna\n",
    "    string_input = input(\"Masukkan sebuah kalimat: \")\n",
    "    \n",
    "    # Memanggil fungsi untuk membalik kata-kata\n",
    "    hasil = balik_kata(string_input)\n",
    "    \n",
    "    # Menampilkan hasil\n",
    "    print(\"Input: \", string_input)\n",
    "    print(\"Output:\", hasil)\n",
    "\n",
    "# Jalankan program\n",
    "if __name__ == \"__main__\":\n",
    "    main()\n"
   ]
  },
  {
   "cell_type": "markdown",
   "metadata": {},
   "source": [
    "### Soal 9: Konsep Class dan Object-Oriented Programming\n",
    "**Soal**: Buat class bernama `Buku` yang memiliki atribut `judul`, `penulis`, dan `tahun_terbit`. Buat method dalam class untuk menampilkan informasi buku, serta method untuk menghitung usia buku berdasarkan tahun saat ini. Buatlah 3 objek dari class `Buku` dan tampilkan informasi serta usia masing-masing buku.\n",
    "\n",
    "**Tujuan**: Menguji pemahaman OOP, pembuatan class, penggunaan method, serta manipulasi atribut.\n"
   ]
  },
  {
   "cell_type": "code",
   "execution_count": 61,
   "metadata": {},
   "outputs": [
    {
     "name": "stdout",
     "output_type": "stream",
     "text": [
      "Buku 1:\n",
      "Judul: Laskar Pelangi\n",
      "Penulis: Andrea Hirata\n",
      "Tahun Terbit: 2005\n",
      "Usia Buku: 18 tahun\n",
      "\n",
      "Buku 2:\n",
      "Judul: Siti Nurbaya: Kasih Tak Sampai\n",
      "Penulis: Marah Rusli\n",
      "Tahun Terbit: 1922\n",
      "Usia Buku: 101 tahun\n",
      "\n",
      "Buku 3:\n",
      "Judul: Bumi Manusia\n",
      "Penulis: Pramoedya Ananta Toer\n",
      "Tahun Terbit: 1980\n",
      "Usia Buku: 43 tahun\n"
     ]
    }
   ],
   "source": [
    "class Buku:\n",
    "    def __init__(self, judul, penulis, tahun_terbit):\n",
    "        self.judul = judul\n",
    "        self.penulis = penulis\n",
    "        self.tahun_terbit = tahun_terbit\n",
    "\n",
    "    def tampilkan_informasi(self):\n",
    "        print(f\"Judul: {self.judul}\")\n",
    "        print(f\"Penulis: {self.penulis}\")\n",
    "        print(f\"Tahun Terbit: {self.tahun_terbit}\")\n",
    "\n",
    "    def hitung_usia(self):\n",
    "        tahun_saat_ini = 2023\n",
    "        usia = tahun_saat_ini - self.tahun_terbit\n",
    "        print(f\"Usia Buku: {usia} tahun\")\n",
    "\n",
    "# Buat 3 objek dari class Buku\n",
    "buku1 = Buku(\"Laskar Pelangi\", \"Andrea Hirata\", 2005)\n",
    "buku2 = Buku(\"Siti Nurbaya: Kasih Tak Sampai\", \"Marah Rusli\", 1922)\n",
    "buku3 = Buku(\"Bumi Manusia\", \"Pramoedya Ananta Toer\", 1980)\n",
    "\n",
    "# Tampilkan informasi dan usia masing-masing buku\n",
    "print(\"Buku 1:\")\n",
    "buku1.tampilkan_informasi()\n",
    "buku1.hitung_usia()\n",
    "print()\n",
    "\n",
    "print(\"Buku 2:\")\n",
    "buku2.tampilkan_informasi()\n",
    "buku2.hitung_usia()\n",
    "print()\n",
    "\n",
    "print(\"Buku 3:\")\n",
    "buku3.tampilkan_informasi()\n",
    "buku3.hitung_usia()"
   ]
  },
  {
   "cell_type": "markdown",
   "metadata": {},
   "source": [
    "### Soal 10: Algoritma dengan Persyaratan Logika Khusus\n",
    "**Soal**: Buatlah program yang mengimplementasikan algoritma pencarian biner, namun dengan modifikasi: algoritma harus bisa mencari nilai di list yang hanya berisi angka genap, dan jika nilai yang dicari adalah angka ganjil, program harus menampilkan pesan bahwa nilai tersebut tidak bisa ditemukan.\n",
    "\n",
    "**Tujuan**: Menguji pemahaman algoritma pencarian serta pengkondisian logika yang lebih kompleks.\n"
   ]
  },
  {
   "cell_type": "code",
   "execution_count": 60,
   "metadata": {},
   "outputs": [
    {
     "name": "stdout",
     "output_type": "stream",
     "text": [
      "\n",
      "List Inputan: [2, 4, 6, 8, 10]\n",
      "Nilai yang dicari: 5\n",
      "Nilai yang dicari tidak bisa ditemukan karena angka ganjil.\n"
     ]
    }
   ],
   "source": [
    "def binary_search(arr, target):\n",
    "    # Mengecek apakah target adalah angka ganjil\n",
    "    if target % 2 != 0:\n",
    "        return \"Nilai yang dicari tidak bisa ditemukan karena angka ganjil.\"\n",
    "\n",
    "    # Melakukan pencarian biner\n",
    "    left, right = 0, len(arr) - 1\n",
    "    \n",
    "    while left <= right:\n",
    "        mid = left + (right - left) // 2\n",
    "        \n",
    "        # Jika elemen tengah adalah target\n",
    "        if arr[mid] == target:\n",
    "            return f\"Nilai {target} ditemukan pada index {mid}.\"\n",
    "        # Jika target lebih kecil dari elemen tengah\n",
    "        elif arr[mid] > target:\n",
    "            right = mid - 1\n",
    "        # Jika target lebih besar dari elemen tengah\n",
    "        else:\n",
    "            left = mid + 1\n",
    "            \n",
    "    return f\"Nilai {target} tidak ditemukan dalam list.\"\n",
    "\n",
    "# Meminta input dari pengguna\n",
    "input_list = input(\"Masukkan daftar angka genap (pisahkan dengan koma): \")\n",
    "# Mengonversi input string menjadi list angka genap\n",
    "even_numbers = list(map(int, input_list.split(\",\")))\n",
    "\n",
    "# Meminta input nilai yang ingin dicari\n",
    "target_value = int(input(\"Masukkan nilai yang ingin dicari: \"))\n",
    "\n",
    "# Mengurutkan daftar angka genap untuk pencarian biner\n",
    "sorted_even_numbers = sorted(even_numbers)\n",
    "\n",
    "# Menguji pencarian\n",
    "result = binary_search(sorted_even_numbers, target_value)\n",
    "\n",
    "# Menampilkan hasil\n",
    "print(\"\\nList Inputan:\", sorted_even_numbers)\n",
    "print(\"Nilai yang dicari:\", target_value)\n",
    "print(result)\n"
   ]
  }
 ],
 "metadata": {
  "kernelspec": {
   "display_name": "Python 3",
   "language": "python",
   "name": "python3"
  },
  "language_info": {
   "codemirror_mode": {
    "name": "ipython",
    "version": 3
   },
   "file_extension": ".py",
   "mimetype": "text/x-python",
   "name": "python",
   "nbconvert_exporter": "python",
   "pygments_lexer": "ipython3",
   "version": "3.12.0"
  }
 },
 "nbformat": 4,
 "nbformat_minor": 2
}
