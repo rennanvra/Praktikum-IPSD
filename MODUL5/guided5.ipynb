{
  "nbformat": 4,
  "nbformat_minor": 0,
  "metadata": {
    "colab": {
      "provenance": [],
      "authorship_tag": "ABX9TyNqBcUl93Wq/tn5garWTBMs",
      "include_colab_link": true
    },
    "kernelspec": {
      "name": "python3",
      "display_name": "Python 3"
    },
    "language_info": {
      "name": "python"
    }
  },
  "cells": [
    {
      "cell_type": "markdown",
      "metadata": {
        "id": "view-in-github",
        "colab_type": "text"
      },
      "source": [
        "<a href=\"https://colab.research.google.com/github/rennanvra/Praktikum-IPSD/blob/main/MODUL5/guided5.ipynb\" target=\"_parent\"><img src=\"https://colab.research.google.com/assets/colab-badge.svg\" alt=\"Open In Colab\"/></a>"
      ]
    },
    {
      "cell_type": "markdown",
      "source": [
        "### **Machine Learning**\n",
        "\n",
        "1. Supervised (memiliki label)\n",
        "- Regresi (variabel target nilai kontinu, ex: prediksi data umur, harga saham)\n",
        "\n",
        "  Contoh: Linear Regression\n",
        "\n",
        "- Klasifikasi (diskrit)\n",
        "\n",
        "2. Unsupervised (tanpa kelas atau label, hanya mempunyai variabel x)\n",
        "- Clustering (ex: pengelompokan jeni spelanggan dengan memasukkan pendapatan dan pengeluaran pelanggan)\n",
        "\n",
        "  Contoh: Kmeans, DBScan, Hierarcical Clustering.\n",
        "\n",
        "3. Reinforcement (reward)"
      ],
      "metadata": {
        "id": "HBfpCXPCFLna"
      }
    },
    {
      "cell_type": "markdown",
      "source": [
        "### **Regresi**\n",
        "\n",
        "\n",
        "- Regresi adalah konsep awal dari algoritma untuk memprediksi nilai\n",
        "- Titik-titik pada visualisasi disebut data asli\n",
        "- Garis pada visualisasi disebut garis prediksi\n",
        "- Semakin kecil bias atau error semakin bagus nilai atau hasilnya\n",
        "- Cost function: Menghitung rata-rata error untuk seluruh data train\n",
        "- Loss Function: Menghitung error untuk satu data point.\n",
        "\n",
        "\n",
        "1. R^2 : Memeriksa apakah seberapa besar pengaruh antara variabel satu ke variabel lainnya. Semakin mendekati nilai 1 semakin bagus, semakin berpengaruh.\n",
        "2. MAE (Mean Absolute Error): Menghitung rata-rata selisih absolut antara nilai prediksi dan nilai sebenarnya.\n",
        "3. MSE (Mean Squared Error) : Menghitung rata-rata kuadrat selisih antara nilai prediksi dan nilai sebenarnya.\n",
        "4. RMSE (Root Mean Squared Error) : Akar kuadrat dari MSE.\n",
        "\n",
        "\n",
        "#### **Uji Asumsi Klasik**\n",
        "\n",
        "Uji asumsi klasik dilakukan untuk memastikan bahwa model regresi linear yang dibangun memenuhi asumsi-asumsi dasar. Jika asumsi tidak terpenuhi, maka hasil analisis regresi mungkin tidak valid.\n",
        "\n",
        "1. Uji Normalitas : memastikan bahwa residual (error) terdistribusi normal.\n",
        "2. Uji Linearitas : memastikan bahwa terdapat hubungan linear antara variabel independen dan dependen.\n",
        "3. Uji Homoskedastisitas : memastikan bahwa varians residual konstan untuk semua nilai variabel independen.\n",
        "4. Uji Autokorelasi : memastikan bahwa tidak ada korelasi antara residual pada observasi yang berbeda.\n",
        "5. Uji Multikolinearitas : memastikan bahwa tidak ada korelasi yang tinggi antara variabel independen.\n",
        "\n",
        "\n",
        "#### **Regularisasi**\n",
        "\n",
        "Digunakan untuk mencegah overfitting (perbedaan antara data training dan testing, contoh training 98% dan testing 88%). Overfitting terjadi ketika model machine learning terlalu kompleks dan menghafal data training, bukannya mempelajari pola umum. Akibatnya, model bekerja dengan baik pada data training tetapi buruk pada data baru yang belum pernah dilihat sebelumnya.\n",
        "\n",
        "1. L1 Regularization (Lasso Regression)\n",
        "- Menambahkan penalty berupa jumlah nilai absolut dari koefisien.\n",
        "- Dapat menghasilkan model yang sparse, di mana beberapa koefisien menjadi nol.\n",
        "- Berguna untuk feature selection.\n",
        "\n",
        "2. L2 Regularization (Ridge Regression)\n",
        "\n",
        "- Menambahkan penalty berupa jumlah kuadrat dari koefisien.\n",
        "- Mencegah koefisien menjadi terlalu besar.\n",
        "- Berguna untuk mengurangi overfitting.\n",
        "\n",
        "#### **Regresi Polinomial Linear**\n",
        "\n",
        "Regresi polinomial linear adalah bentuk regresi linear di mana hubungan antara variabel independen dan dependen dimodelkan sebagai polinomial."
      ],
      "metadata": {
        "id": "KCXewc9XJGWK"
      }
    },
    {
      "cell_type": "code",
      "source": [
        "# Import library yang dibutuhkan\n",
        "from sklearn.datasets import load_diabetes  # Load dataset diabetes\n",
        "from sklearn.linear_model import LinearRegression, Lasso, Ridge  # Model regresi\n",
        "from sklearn.model_selection import train_test_split  # Membagi dataset\n",
        "from sklearn.metrics import mean_squared_error, mean_absolute_error, r2_score  # Metode evaluasi"
      ],
      "metadata": {
        "id": "NKdFhlPpUVoZ"
      },
      "execution_count": null,
      "outputs": []
    },
    {
      "cell_type": "code",
      "source": [
        "# Load dataset diabetes\n",
        "x, y = load_diabetes(return_X_y=True)"
      ],
      "metadata": {
        "id": "Xa7NGCdhUYfU"
      },
      "execution_count": null,
      "outputs": []
    },
    {
      "cell_type": "code",
      "source": [
        "# Inisialisasi model regresi linear\n",
        "lr = LinearRegression() #model"
      ],
      "metadata": {
        "id": "dbxzZrXaPIlJ"
      },
      "execution_count": null,
      "outputs": []
    },
    {
      "cell_type": "code",
      "source": [
        "lr.fit(x, y) # Melatih model dengan data\n",
        "y_pred = lr.predict(x) # Memprediksi nilai dengan data yang sama"
      ],
      "metadata": {
        "id": "N4dvX7ndPQ1X"
      },
      "execution_count": null,
      "outputs": []
    },
    {
      "cell_type": "code",
      "source": [
        "# Menampilkan nama fitur dan jumlahnya\n",
        "load_diabetes()['feature_names'] #variabel data"
      ],
      "metadata": {
        "colab": {
          "base_uri": "https://localhost:8080/"
        },
        "id": "tg3pVZ9SPvXl",
        "outputId": "47de2b08-53df-4d54-ef40-788806545d04"
      },
      "execution_count": null,
      "outputs": [
        {
          "output_type": "execute_result",
          "data": {
            "text/plain": [
              "['age', 'sex', 'bmi', 'bp', 's1', 's2', 's3', 's4', 's5', 's6']"
            ]
          },
          "metadata": {},
          "execution_count": 11
        }
      ]
    },
    {
      "cell_type": "code",
      "source": [
        "len(load_diabetes()['feature_names']) # Menampilkan panjang fitur data"
      ],
      "metadata": {
        "colab": {
          "base_uri": "https://localhost:8080/"
        },
        "id": "zdxAj_RqQbS1",
        "outputId": "4aa82109-9514-4300-b8ba-538d27b9d152"
      },
      "execution_count": null,
      "outputs": [
        {
          "output_type": "execute_result",
          "data": {
            "text/plain": [
              "10"
            ]
          },
          "metadata": {},
          "execution_count": 12
        }
      ]
    },
    {
      "cell_type": "code",
      "source": [
        "# Evaluasi model dengan R2, MSE, dan MAE menggunakan semua data (train & test tidak dipisah)\n",
        "print(r2_score(y, y_pred))  # Mengukur R2 score\n",
        "print(mean_squared_error(y, y_pred))  # Mengukur Mean Squared Error\n",
        "print(mean_absolute_error(y, y_pred))  # Mengukur Mean Absolute Error"
      ],
      "metadata": {
        "colab": {
          "base_uri": "https://localhost:8080/"
        },
        "id": "EqzR6COhPpy9",
        "outputId": "024ecc9e-3205-4ce5-e287-1fabbc21f65b"
      },
      "execution_count": null,
      "outputs": [
        {
          "output_type": "stream",
          "name": "stdout",
          "text": [
            "0.5177484222203499\n",
            "2859.69634758675\n",
            "43.27745202531506\n"
          ]
        }
      ]
    },
    {
      "cell_type": "markdown",
      "source": [
        "### Interpretasi\n",
        "\n",
        "1. R^2 digunakan untuk memeriksa seberapa besar pengaruh variabel atau nilai yang di prediksi. Semakin mendekati angka 1 maka data semakin berpengaruh atau baik. Nilai di atas memang lebib dari 0,5 sekian namun masih menandakan bahwa data belum cukup optimal untuk. Nilai 0,5177 menunjukkan bahwa model dapat menjelaskan sekitar 51.77% variabilitas dari data target menggunakan fitur yang ada.\n",
        "\n",
        "2. MSE digunakan untuk menghitung rata-rata kuadrat selisih antara nilai prediksi dan nilai sebenarnya. Nilai MSE sebesar 2859.70 menunjukkan bahwa kesalahan rata-rata kuadrat antara prediksi dan nilai sebenarnya cukup tinggi. Semakin rendah nilai MSE, semakin baik performa model, sehingga nilai ini menunjukkan masih adanya kesalahan prediksi yang cukup besar.\n",
        "\n",
        "3. MAE digunakan untuk menghitung rata-rata selisih absolut antara nilai prediksi dan nilai sebenarnya. Ini berarti bahwa secara rata-rata, prediksi model meleset sekitar 43.28 unit dari nilai target sebenarnya."
      ],
      "metadata": {
        "id": "_eDWSMem-qX3"
      }
    },
    {
      "cell_type": "markdown",
      "source": [
        "## Teknik pembagian data\n",
        "\n",
        "1. Holdout Splitting : Hanya membagi dua bagian (training dan testing)\n",
        "2.\n"
      ],
      "metadata": {
        "id": "uO3t6rzuRs1Z"
      }
    },
    {
      "cell_type": "code",
      "source": [
        "from sklearn.model_selection import train_test_split\n",
        "\n",
        "# Memisahkan data menjadi data latih dan uji (80% latih, 20% uji)\n",
        "x_train, x_test, y_train, y_test = train_test_split(x, y, test_size=0.2, random_state=42)"
      ],
      "metadata": {
        "id": "AF9WNAZJUbcu"
      },
      "execution_count": null,
      "outputs": []
    },
    {
      "cell_type": "code",
      "source": [
        "# Inisialisasi model regresi linear\n",
        "lr = LinearRegression()\n",
        "# Melatih model menggunakan data latih\n",
        "lr.fit(x_train, y_train)\n",
        "# Prediksi menggunakan data uji\n",
        "y_pred = lr.predict(x_test)\n",
        "\n",
        "# Evaluasi model pada data uji\n",
        "print(r2_score(y_test, y_pred))  # Mengukur R2 score pada data uji\n",
        "print(mean_squared_error(y_test, y_pred))  # Mengukur Mean Squared Error pada data uji"
      ],
      "metadata": {
        "colab": {
          "base_uri": "https://localhost:8080/"
        },
        "id": "fL3ACqC8UeVv",
        "outputId": "30afba2b-5320-4bf2-8903-3bced412198f"
      },
      "execution_count": null,
      "outputs": [
        {
          "output_type": "stream",
          "name": "stdout",
          "text": [
            "0.4526027629719195\n",
            "2900.193628493482\n"
          ]
        }
      ]
    },
    {
      "cell_type": "markdown",
      "source": [
        "### Interpretasi\n",
        "\n",
        "1. R^2 pada data ini jauh lebih rendah, yang berarti menunjukkan bahwa model mungkin sedikit overfitting pada data latih.\n",
        "\n",
        "2. Nilai MSE pada data uji sebesar 2900.19 mirip dengan MSE pada data latih, yang berarti tingkat kesalahan prediksi model relatif konsisten antara data latih dan data uji. Namun, nilai ini masih menunjukkan kesalahan prediksi yang cukup besar."
      ],
      "metadata": {
        "id": "5I_JsNytA3-J"
      }
    }
  ]
}