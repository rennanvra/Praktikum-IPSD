{
 "cells": [
  {
   "cell_type": "code",
   "execution_count": 1,
   "metadata": {},
   "outputs": [
    {
     "name": "stdout",
     "output_type": "stream",
     "text": [
      "Requirement already satisfied: pandas in c:\\users\\user\\appdata\\local\\programs\\python\\python312\\lib\\site-packages (2.2.3)\n",
      "Requirement already satisfied: numpy>=1.26.0 in c:\\users\\user\\appdata\\local\\programs\\python\\python312\\lib\\site-packages (from pandas) (2.1.1)\n",
      "Requirement already satisfied: python-dateutil>=2.8.2 in c:\\users\\user\\appdata\\roaming\\python\\python312\\site-packages (from pandas) (2.9.0.post0)\n",
      "Requirement already satisfied: pytz>=2020.1 in c:\\users\\user\\appdata\\local\\programs\\python\\python312\\lib\\site-packages (from pandas) (2024.2)\n",
      "Requirement already satisfied: tzdata>=2022.7 in c:\\users\\user\\appdata\\local\\programs\\python\\python312\\lib\\site-packages (from pandas) (2024.2)\n",
      "Requirement already satisfied: six>=1.5 in c:\\users\\user\\appdata\\roaming\\python\\python312\\site-packages (from python-dateutil>=2.8.2->pandas) (1.16.0)\n",
      "Note: you may need to restart the kernel to use updated packages.\n"
     ]
    },
    {
     "name": "stderr",
     "output_type": "stream",
     "text": [
      "\n",
      "[notice] A new release of pip is available: 23.2.1 -> 24.2\n",
      "[notice] To update, run: python.exe -m pip install --upgrade pip\n"
     ]
    }
   ],
   "source": [
    "pip install pandas\n"
   ]
  },
  {
   "cell_type": "code",
   "execution_count": 4,
   "metadata": {},
   "outputs": [
    {
     "name": "stdout",
     "output_type": "stream",
     "text": [
      "     Marketing_expense  Production_expense  Multiplex_coverage     Budget  \\\n",
      "0              20.1264               59.62               0.462  36524.125   \n",
      "1              20.5462               69.14               0.531  35668.655   \n",
      "2              20.5458               69.14               0.531  39912.675   \n",
      "3              20.6474               59.36               0.542  38873.890   \n",
      "4              21.3810               59.36               0.542  39701.585   \n",
      "..                 ...                 ...                 ...        ...   \n",
      "501            21.2526               78.86               0.427  36624.115   \n",
      "502            20.9054               78.86               0.427  33996.600   \n",
      "503            21.2152               78.86               0.427  38751.680   \n",
      "504            22.1918               78.86               0.427  37740.670   \n",
      "505            20.9482               78.86               0.427  33496.650   \n",
      "\n",
      "     Movie_length  Lead_ Actor_Rating  Lead_Actress_rating  Director_rating  \\\n",
      "0           138.7               7.825                8.095            7.910   \n",
      "1           152.4               7.505                7.650            7.440   \n",
      "2           134.6               7.485                7.570            7.495   \n",
      "3           119.3               6.895                7.035            6.920   \n",
      "4           127.7               6.920                7.070            6.815   \n",
      "..            ...                 ...                  ...              ...   \n",
      "501         142.6               8.680                8.775            8.620   \n",
      "502         150.2               8.780                8.945            8.770   \n",
      "503         164.5               8.830                8.970            8.855   \n",
      "504         162.8               8.730                8.845            8.800   \n",
      "505         154.3               8.640                8.880            8.680   \n",
      "\n",
      "     Producer_rating  Critic_rating  Trailer_views 3D_available  Time_taken  \\\n",
      "0              7.995           7.94         527367          YES      109.60   \n",
      "1              7.470           7.44         494055           NO      146.64   \n",
      "2              7.515           7.44         547051           NO      147.88   \n",
      "3              7.020           8.26         516279          YES      185.36   \n",
      "4              7.070           8.26         531448           NO      176.48   \n",
      "..               ...            ...            ...          ...         ...   \n",
      "501            8.970           6.80         492480           NO      186.96   \n",
      "502            8.930           7.80         482875          YES      132.24   \n",
      "503            9.010           7.80         532239           NO      109.56   \n",
      "504            8.845           6.80         496077          YES      158.80   \n",
      "505            8.790           6.80         518438          YES      205.60   \n",
      "\n",
      "     Twitter_hastags     Genre  Avg_age_actors  Num_multiplex  Collection  \\\n",
      "0            223.840  Thriller              23            494       48000   \n",
      "1            243.456     Drama              42            462       43200   \n",
      "2           2022.400    Comedy              38            458       69400   \n",
      "3            225.344     Drama              45            472       66800   \n",
      "4            225.792     Drama              55            395       72400   \n",
      "..               ...       ...             ...            ...         ...   \n",
      "501          243.584    Action              27            561       44800   \n",
      "502          263.296    Action              20            600       41200   \n",
      "503          243.824    Comedy              31            576       47800   \n",
      "504          303.520    Comedy              47            607       44000   \n",
      "505          203.040    Comedy              45            604       38000   \n",
      "\n",
      "     Start_Tech_Oscar  \n",
      "0                   1  \n",
      "1                   0  \n",
      "2                   1  \n",
      "3                   1  \n",
      "4                   1  \n",
      "..                ...  \n",
      "501                 0  \n",
      "502                 0  \n",
      "503                 0  \n",
      "504                 0  \n",
      "505                 0  \n",
      "\n",
      "[506 rows x 19 columns]\n"
     ]
    }
   ],
   "source": [
    "import pandas as pd\n",
    "\n",
    "df = pd.read_csv(r\"C:/Users/User/Downloads/Movie_classification.csv\")\n",
    "\n",
    "print(df)"
   ]
  },
  {
   "cell_type": "code",
   "execution_count": 12,
   "metadata": {},
   "outputs": [
    {
     "name": "stdout",
     "output_type": "stream",
     "text": [
      "Baris yang duplikat:\n",
      " 0      False\n",
      "1      False\n",
      "2      False\n",
      "3      False\n",
      "4      False\n",
      "       ...  \n",
      "501    False\n",
      "502    False\n",
      "503    False\n",
      "504    False\n",
      "505    False\n",
      "Length: 506, dtype: bool\n",
      "Jumlah awal nilai duplikat 505\n",
      "Jumlah nilai setelah menghapus duplikat: 505\n"
     ]
    }
   ],
   "source": [
    "# Cek nilai duplikat dan hapus nilai duplikat tersebut \n",
    "import pandas as pd\n",
    "\n",
    "df = pd.read_csv(r\"C:/Users/User/Downloads/Movie_classification.csv\")\n",
    "\n",
    "data = (df.duplicated())\n",
    "print(\"Baris yang duplikat:\\n\", data)\n",
    "\n",
    "df_no_duplicates = (df.drop_duplicates())\n",
    "\n",
    "df_no_duplicates.to_csv('path_ke_file_bersih.csv', index=False)\n",
    "\n",
    "# Cek duplikasi\n",
    "print(\"Jumlah awal nilai duplikat\", data.duplicated().sum())\n",
    "df.drop_duplicates(inplace=True)\n",
    "print(\"Jumlah nilai setelah menghapus duplikat:\", data.duplicated().sum())\n"
   ]
  },
  {
   "cell_type": "code",
   "execution_count": 27,
   "metadata": {},
   "outputs": [
    {
     "name": "stdout",
     "output_type": "stream",
     "text": [
      "Nilai null di setiap kolom:\n",
      " Marketing_expense      0\n",
      "Production_expense     0\n",
      "Multiplex_coverage     0\n",
      "Budget                 0\n",
      "Movie_length           0\n",
      "Lead_ Actor_Rating     0\n",
      "Lead_Actress_rating    0\n",
      "Director_rating        0\n",
      "Producer_rating        0\n",
      "Critic_rating          0\n",
      "Trailer_views          0\n",
      "3D_available           0\n",
      "Time_taken             0\n",
      "Twitter_hastags        0\n",
      "Genre                  0\n",
      "Avg_age_actors         0\n",
      "Num_multiplex          0\n",
      "Collection             0\n",
      "Start_Tech_Oscar       0\n",
      "dtype: int64\n",
      "\n",
      "Jumlah nilai null di setiap kolom:\n",
      " Marketing_expense      0\n",
      "Production_expense     0\n",
      "Multiplex_coverage     0\n",
      "Budget                 0\n",
      "Movie_length           0\n",
      "Lead_ Actor_Rating     0\n",
      "Lead_Actress_rating    0\n",
      "Director_rating        0\n",
      "Producer_rating        0\n",
      "Critic_rating          0\n",
      "Trailer_views          0\n",
      "3D_available           0\n",
      "Time_taken             0\n",
      "Twitter_hastags        0\n",
      "Genre                  0\n",
      "Avg_age_actors         0\n",
      "Num_multiplex          0\n",
      "Collection             0\n",
      "Start_Tech_Oscar       0\n",
      "dtype: int64\n"
     ]
    }
   ],
   "source": [
    "# Menemukan nilai null\n",
    "print(\"Nilai null di setiap kolom:\\n\", df.isnull().sum())\n",
    "\n",
    "# Cek nilai null setelah dibersihkan\n",
    "print(\"\\nNilai null di setiap kolom setelah dibersihkan:\\n\", df.isnull().sum())"
   ]
  },
  {
   "cell_type": "code",
   "execution_count": 26,
   "metadata": {},
   "outputs": [],
   "source": [
    "# Drop missing values\n",
    "df.dropna(inplace=True)"
   ]
  },
  {
   "cell_type": "code",
   "execution_count": 28,
   "metadata": {},
   "outputs": [
    {
     "name": "stdout",
     "output_type": "stream",
     "text": [
      "Data setelah memproses nilai duplikat dan missing values:\n",
      "      Marketing_expense  Production_expense  Multiplex_coverage     Budget  \\\n",
      "0              20.1264               59.62               0.462  36524.125   \n",
      "1              20.5462               69.14               0.531  35668.655   \n",
      "2              20.5458               69.14               0.531  39912.675   \n",
      "3              20.6474               59.36               0.542  38873.890   \n",
      "4              21.3810               59.36               0.542  39701.585   \n",
      "..                 ...                 ...                 ...        ...   \n",
      "501            21.2526               78.86               0.427  36624.115   \n",
      "502            20.9054               78.86               0.427  33996.600   \n",
      "503            21.2152               78.86               0.427  38751.680   \n",
      "504            22.1918               78.86               0.427  37740.670   \n",
      "505            20.9482               78.86               0.427  33496.650   \n",
      "\n",
      "     Movie_length  Lead_ Actor_Rating  Lead_Actress_rating  Director_rating  \\\n",
      "0           138.7               7.825                8.095            7.910   \n",
      "1           152.4               7.505                7.650            7.440   \n",
      "2           134.6               7.485                7.570            7.495   \n",
      "3           119.3               6.895                7.035            6.920   \n",
      "4           127.7               6.920                7.070            6.815   \n",
      "..            ...                 ...                  ...              ...   \n",
      "501         142.6               8.680                8.775            8.620   \n",
      "502         150.2               8.780                8.945            8.770   \n",
      "503         164.5               8.830                8.970            8.855   \n",
      "504         162.8               8.730                8.845            8.800   \n",
      "505         154.3               8.640                8.880            8.680   \n",
      "\n",
      "     Producer_rating  Critic_rating  Trailer_views 3D_available  Time_taken  \\\n",
      "0              7.995           7.94         527367          YES      109.60   \n",
      "1              7.470           7.44         494055           NO      146.64   \n",
      "2              7.515           7.44         547051           NO      147.88   \n",
      "3              7.020           8.26         516279          YES      185.36   \n",
      "4              7.070           8.26         531448           NO      176.48   \n",
      "..               ...            ...            ...          ...         ...   \n",
      "501            8.970           6.80         492480           NO      186.96   \n",
      "502            8.930           7.80         482875          YES      132.24   \n",
      "503            9.010           7.80         532239           NO      109.56   \n",
      "504            8.845           6.80         496077          YES      158.80   \n",
      "505            8.790           6.80         518438          YES      205.60   \n",
      "\n",
      "     Twitter_hastags     Genre  Avg_age_actors  Num_multiplex  Collection  \\\n",
      "0            223.840  Thriller              23            494       48000   \n",
      "1            243.456     Drama              42            462       43200   \n",
      "2           2022.400    Comedy              38            458       69400   \n",
      "3            225.344     Drama              45            472       66800   \n",
      "4            225.792     Drama              55            395       72400   \n",
      "..               ...       ...             ...            ...         ...   \n",
      "501          243.584    Action              27            561       44800   \n",
      "502          263.296    Action              20            600       41200   \n",
      "503          243.824    Comedy              31            576       47800   \n",
      "504          303.520    Comedy              47            607       44000   \n",
      "505          203.040    Comedy              45            604       38000   \n",
      "\n",
      "     Start_Tech_Oscar  \n",
      "0                   1  \n",
      "1                   0  \n",
      "2                   1  \n",
      "3                   1  \n",
      "4                   1  \n",
      "..                ...  \n",
      "501                 0  \n",
      "502                 0  \n",
      "503                 0  \n",
      "504                 0  \n",
      "505                 0  \n",
      "\n",
      "[494 rows x 19 columns]\n"
     ]
    }
   ],
   "source": [
    "# Menampilkan data setelah pengolahan\n",
    "print(\"Data setelah memproses nilai duplikat dan missing values:\\n\", df)"
   ]
  }
 ],
 "metadata": {
  "kernelspec": {
   "display_name": "Python 3",
   "language": "python",
   "name": "python3"
  },
  "language_info": {
   "codemirror_mode": {
    "name": "ipython",
    "version": 3
   },
   "file_extension": ".py",
   "mimetype": "text/x-python",
   "name": "python",
   "nbconvert_exporter": "python",
   "pygments_lexer": "ipython3",
   "version": "3.12.0"
  }
 },
 "nbformat": 4,
 "nbformat_minor": 2
}
